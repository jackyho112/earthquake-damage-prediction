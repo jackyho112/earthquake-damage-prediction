{
 "cells": [
  {
   "cell_type": "code",
   "execution_count": 68,
   "metadata": {},
   "outputs": [],
   "source": [
    "import pandas as pd\n",
    "import numpy as np\n",
    "from sklearn.preprocessing import OneHotEncoder\n",
    "from sklearn.compose import ColumnTransformer\n",
    "from sklearn.preprocessing import StandardScaler, RobustScaler\n",
    "from sklearn.pipeline import make_pipeline\n",
    "from scipy import stats\n",
    "from imblearn.over_sampling import SMOTE, ADASYN\n",
    "from imblearn.combine import SMOTEENN\n",
    "from sklearn.model_selection import train_test_split\n",
    "from sklearn.metrics import f1_score, make_scorer\n",
    "from sklearn.ensemble import RandomForestClassifier, AdaBoostClassifier\n",
    "from sklearn.dummy import DummyClassifier\n",
    "from sklearn.model_selection import GridSearchCV\n",
    "from sklearn.naive_bayes import MultinomialNB\n",
    "from lightgbm import LGBMClassifier\n",
    "from xgboost import XGBClassifier\n",
    "from catboost import CatBoostClassifier\n",
    "from mlens.ensemble import SuperLearner\n",
    "import pickle"
   ]
  },
  {
   "cell_type": "code",
   "execution_count": 69,
   "metadata": {},
   "outputs": [],
   "source": [
    "train_data_values = pd.read_csv('./data/train_values.csv', index_col=0)\n",
    "train_data_labels = pd.read_csv('./data/train_labels.csv', index_col=0)\n",
    "\n",
    "train_data = pd.concat([train_data_values, train_data_labels], axis=1)"
   ]
  },
  {
   "cell_type": "code",
   "execution_count": 70,
   "metadata": {},
   "outputs": [
    {
     "data": {
      "text/html": [
       "<div>\n",
       "<style scoped>\n",
       "    .dataframe tbody tr th:only-of-type {\n",
       "        vertical-align: middle;\n",
       "    }\n",
       "\n",
       "    .dataframe tbody tr th {\n",
       "        vertical-align: top;\n",
       "    }\n",
       "\n",
       "    .dataframe thead th {\n",
       "        text-align: right;\n",
       "    }\n",
       "</style>\n",
       "<table border=\"1\" class=\"dataframe\">\n",
       "  <thead>\n",
       "    <tr style=\"text-align: right;\">\n",
       "      <th></th>\n",
       "      <th>geo_level_1_id</th>\n",
       "      <th>geo_level_2_id</th>\n",
       "      <th>geo_level_3_id</th>\n",
       "      <th>count_floors_pre_eq</th>\n",
       "      <th>age</th>\n",
       "      <th>area_percentage</th>\n",
       "      <th>height_percentage</th>\n",
       "      <th>land_surface_condition</th>\n",
       "      <th>foundation_type</th>\n",
       "      <th>roof_type</th>\n",
       "      <th>...</th>\n",
       "      <th>has_secondary_use_hotel</th>\n",
       "      <th>has_secondary_use_rental</th>\n",
       "      <th>has_secondary_use_institution</th>\n",
       "      <th>has_secondary_use_school</th>\n",
       "      <th>has_secondary_use_industry</th>\n",
       "      <th>has_secondary_use_health_post</th>\n",
       "      <th>has_secondary_use_gov_office</th>\n",
       "      <th>has_secondary_use_use_police</th>\n",
       "      <th>has_secondary_use_other</th>\n",
       "      <th>damage_grade</th>\n",
       "    </tr>\n",
       "    <tr>\n",
       "      <th>building_id</th>\n",
       "      <th></th>\n",
       "      <th></th>\n",
       "      <th></th>\n",
       "      <th></th>\n",
       "      <th></th>\n",
       "      <th></th>\n",
       "      <th></th>\n",
       "      <th></th>\n",
       "      <th></th>\n",
       "      <th></th>\n",
       "      <th></th>\n",
       "      <th></th>\n",
       "      <th></th>\n",
       "      <th></th>\n",
       "      <th></th>\n",
       "      <th></th>\n",
       "      <th></th>\n",
       "      <th></th>\n",
       "      <th></th>\n",
       "      <th></th>\n",
       "      <th></th>\n",
       "    </tr>\n",
       "  </thead>\n",
       "  <tbody>\n",
       "    <tr>\n",
       "      <th>802906</th>\n",
       "      <td>6</td>\n",
       "      <td>487</td>\n",
       "      <td>12198</td>\n",
       "      <td>2</td>\n",
       "      <td>30</td>\n",
       "      <td>6</td>\n",
       "      <td>5</td>\n",
       "      <td>t</td>\n",
       "      <td>r</td>\n",
       "      <td>n</td>\n",
       "      <td>...</td>\n",
       "      <td>0</td>\n",
       "      <td>0</td>\n",
       "      <td>0</td>\n",
       "      <td>0</td>\n",
       "      <td>0</td>\n",
       "      <td>0</td>\n",
       "      <td>0</td>\n",
       "      <td>0</td>\n",
       "      <td>0</td>\n",
       "      <td>3</td>\n",
       "    </tr>\n",
       "    <tr>\n",
       "      <th>28830</th>\n",
       "      <td>8</td>\n",
       "      <td>900</td>\n",
       "      <td>2812</td>\n",
       "      <td>2</td>\n",
       "      <td>10</td>\n",
       "      <td>8</td>\n",
       "      <td>7</td>\n",
       "      <td>o</td>\n",
       "      <td>r</td>\n",
       "      <td>n</td>\n",
       "      <td>...</td>\n",
       "      <td>0</td>\n",
       "      <td>0</td>\n",
       "      <td>0</td>\n",
       "      <td>0</td>\n",
       "      <td>0</td>\n",
       "      <td>0</td>\n",
       "      <td>0</td>\n",
       "      <td>0</td>\n",
       "      <td>0</td>\n",
       "      <td>2</td>\n",
       "    </tr>\n",
       "    <tr>\n",
       "      <th>94947</th>\n",
       "      <td>21</td>\n",
       "      <td>363</td>\n",
       "      <td>8973</td>\n",
       "      <td>2</td>\n",
       "      <td>10</td>\n",
       "      <td>5</td>\n",
       "      <td>5</td>\n",
       "      <td>t</td>\n",
       "      <td>r</td>\n",
       "      <td>n</td>\n",
       "      <td>...</td>\n",
       "      <td>0</td>\n",
       "      <td>0</td>\n",
       "      <td>0</td>\n",
       "      <td>0</td>\n",
       "      <td>0</td>\n",
       "      <td>0</td>\n",
       "      <td>0</td>\n",
       "      <td>0</td>\n",
       "      <td>0</td>\n",
       "      <td>3</td>\n",
       "    </tr>\n",
       "    <tr>\n",
       "      <th>590882</th>\n",
       "      <td>22</td>\n",
       "      <td>418</td>\n",
       "      <td>10694</td>\n",
       "      <td>2</td>\n",
       "      <td>10</td>\n",
       "      <td>6</td>\n",
       "      <td>5</td>\n",
       "      <td>t</td>\n",
       "      <td>r</td>\n",
       "      <td>n</td>\n",
       "      <td>...</td>\n",
       "      <td>0</td>\n",
       "      <td>0</td>\n",
       "      <td>0</td>\n",
       "      <td>0</td>\n",
       "      <td>0</td>\n",
       "      <td>0</td>\n",
       "      <td>0</td>\n",
       "      <td>0</td>\n",
       "      <td>0</td>\n",
       "      <td>2</td>\n",
       "    </tr>\n",
       "    <tr>\n",
       "      <th>201944</th>\n",
       "      <td>11</td>\n",
       "      <td>131</td>\n",
       "      <td>1488</td>\n",
       "      <td>3</td>\n",
       "      <td>30</td>\n",
       "      <td>8</td>\n",
       "      <td>9</td>\n",
       "      <td>t</td>\n",
       "      <td>r</td>\n",
       "      <td>n</td>\n",
       "      <td>...</td>\n",
       "      <td>0</td>\n",
       "      <td>0</td>\n",
       "      <td>0</td>\n",
       "      <td>0</td>\n",
       "      <td>0</td>\n",
       "      <td>0</td>\n",
       "      <td>0</td>\n",
       "      <td>0</td>\n",
       "      <td>0</td>\n",
       "      <td>3</td>\n",
       "    </tr>\n",
       "  </tbody>\n",
       "</table>\n",
       "<p>5 rows × 39 columns</p>\n",
       "</div>"
      ],
      "text/plain": [
       "             geo_level_1_id  geo_level_2_id  geo_level_3_id  \\\n",
       "building_id                                                   \n",
       "802906                    6             487           12198   \n",
       "28830                     8             900            2812   \n",
       "94947                    21             363            8973   \n",
       "590882                   22             418           10694   \n",
       "201944                   11             131            1488   \n",
       "\n",
       "             count_floors_pre_eq  age  area_percentage  height_percentage  \\\n",
       "building_id                                                                 \n",
       "802906                         2   30                6                  5   \n",
       "28830                          2   10                8                  7   \n",
       "94947                          2   10                5                  5   \n",
       "590882                         2   10                6                  5   \n",
       "201944                         3   30                8                  9   \n",
       "\n",
       "            land_surface_condition foundation_type roof_type  ...  \\\n",
       "building_id                                                   ...   \n",
       "802906                           t               r         n  ...   \n",
       "28830                            o               r         n  ...   \n",
       "94947                            t               r         n  ...   \n",
       "590882                           t               r         n  ...   \n",
       "201944                           t               r         n  ...   \n",
       "\n",
       "            has_secondary_use_hotel has_secondary_use_rental  \\\n",
       "building_id                                                    \n",
       "802906                            0                        0   \n",
       "28830                             0                        0   \n",
       "94947                             0                        0   \n",
       "590882                            0                        0   \n",
       "201944                            0                        0   \n",
       "\n",
       "            has_secondary_use_institution has_secondary_use_school  \\\n",
       "building_id                                                          \n",
       "802906                                  0                        0   \n",
       "28830                                   0                        0   \n",
       "94947                                   0                        0   \n",
       "590882                                  0                        0   \n",
       "201944                                  0                        0   \n",
       "\n",
       "             has_secondary_use_industry  has_secondary_use_health_post  \\\n",
       "building_id                                                              \n",
       "802906                                0                              0   \n",
       "28830                                 0                              0   \n",
       "94947                                 0                              0   \n",
       "590882                                0                              0   \n",
       "201944                                0                              0   \n",
       "\n",
       "             has_secondary_use_gov_office  has_secondary_use_use_police  \\\n",
       "building_id                                                               \n",
       "802906                                  0                             0   \n",
       "28830                                   0                             0   \n",
       "94947                                   0                             0   \n",
       "590882                                  0                             0   \n",
       "201944                                  0                             0   \n",
       "\n",
       "             has_secondary_use_other  damage_grade  \n",
       "building_id                                         \n",
       "802906                             0             3  \n",
       "28830                              0             2  \n",
       "94947                              0             3  \n",
       "590882                             0             2  \n",
       "201944                             0             3  \n",
       "\n",
       "[5 rows x 39 columns]"
      ]
     },
     "execution_count": 70,
     "metadata": {},
     "output_type": "execute_result"
    }
   ],
   "source": [
    "train_data.head()"
   ]
  },
  {
   "cell_type": "code",
   "execution_count": 71,
   "metadata": {},
   "outputs": [
    {
     "data": {
      "text/plain": [
       "Index(['geo_level_1_id', 'geo_level_2_id', 'geo_level_3_id',\n",
       "       'count_floors_pre_eq', 'age', 'area_percentage', 'height_percentage',\n",
       "       'land_surface_condition', 'foundation_type', 'roof_type',\n",
       "       'ground_floor_type', 'other_floor_type', 'position',\n",
       "       'plan_configuration', 'has_superstructure_adobe_mud',\n",
       "       'has_superstructure_mud_mortar_stone', 'has_superstructure_stone_flag',\n",
       "       'has_superstructure_cement_mortar_stone',\n",
       "       'has_superstructure_mud_mortar_brick',\n",
       "       'has_superstructure_cement_mortar_brick', 'has_superstructure_timber',\n",
       "       'has_superstructure_bamboo', 'has_superstructure_rc_non_engineered',\n",
       "       'has_superstructure_rc_engineered', 'has_superstructure_other',\n",
       "       'legal_ownership_status', 'count_families', 'has_secondary_use',\n",
       "       'has_secondary_use_agriculture', 'has_secondary_use_hotel',\n",
       "       'has_secondary_use_rental', 'has_secondary_use_institution',\n",
       "       'has_secondary_use_school', 'has_secondary_use_industry',\n",
       "       'has_secondary_use_health_post', 'has_secondary_use_gov_office',\n",
       "       'has_secondary_use_use_police', 'has_secondary_use_other',\n",
       "       'damage_grade'],\n",
       "      dtype='object')"
      ]
     },
     "execution_count": 71,
     "metadata": {},
     "output_type": "execute_result"
    }
   ],
   "source": [
    "train_data.columns"
   ]
  },
  {
   "cell_type": "code",
   "execution_count": 72,
   "metadata": {},
   "outputs": [],
   "source": [
    "numeric_features = [\n",
    "  'count_floors_pre_eq', 'age', \n",
    "  'area_percentage', 'height_percentage',\n",
    "  'count_families'\n",
    "]\n",
    "\n",
    "categorical_features = [\n",
    "  'land_surface_condition', 'foundation_type',\n",
    "  'roof_type', 'ground_floor_type',\n",
    "  'other_floor_type', 'position',\n",
    "  'plan_configuration', 'legal_ownership_status'\n",
    "]\n",
    "\n",
    "other_features = list(np.setdiff1d(\n",
    "  train_data.columns,\n",
    "  categorical_features + ['damage_grade'],\n",
    "  assume_unique=True\n",
    "))"
   ]
  },
  {
   "cell_type": "markdown",
   "metadata": {},
   "source": [
    "Let's see how imbalanced the data really is:"
   ]
  },
  {
   "cell_type": "code",
   "execution_count": 73,
   "metadata": {},
   "outputs": [
    {
     "data": {
      "text/plain": [
       "(25124, 39)"
      ]
     },
     "execution_count": 73,
     "metadata": {},
     "output_type": "execute_result"
    }
   ],
   "source": [
    "train_data[train_data['damage_grade'] == 1].shape"
   ]
  },
  {
   "cell_type": "code",
   "execution_count": 74,
   "metadata": {},
   "outputs": [
    {
     "data": {
      "text/plain": [
       "(148259, 39)"
      ]
     },
     "execution_count": 74,
     "metadata": {},
     "output_type": "execute_result"
    }
   ],
   "source": [
    "train_data[train_data['damage_grade'] == 2].shape"
   ]
  },
  {
   "cell_type": "code",
   "execution_count": 75,
   "metadata": {},
   "outputs": [
    {
     "data": {
      "text/plain": [
       "(87218, 39)"
      ]
     },
     "execution_count": 75,
     "metadata": {},
     "output_type": "execute_result"
    }
   ],
   "source": [
    "train_data[train_data['damage_grade'] == 3].shape"
   ]
  },
  {
   "cell_type": "markdown",
   "metadata": {},
   "source": [
    "Let's see if we can improve the imbalance by removing outliers. "
   ]
  },
  {
   "cell_type": "code",
   "execution_count": 76,
   "metadata": {},
   "outputs": [],
   "source": [
    "train_data = train_data[(np.abs(stats.zscore(train_data[numeric_features])) < 3).all(axis=1)]"
   ]
  },
  {
   "cell_type": "code",
   "execution_count": 77,
   "metadata": {},
   "outputs": [
    {
     "data": {
      "text/plain": [
       "(22900, 39)"
      ]
     },
     "execution_count": 77,
     "metadata": {},
     "output_type": "execute_result"
    }
   ],
   "source": [
    "train_data[train_data['damage_grade'] == 1].shape"
   ]
  },
  {
   "cell_type": "code",
   "execution_count": 78,
   "metadata": {},
   "outputs": [
    {
     "data": {
      "text/plain": [
       "(142343, 39)"
      ]
     },
     "execution_count": 78,
     "metadata": {},
     "output_type": "execute_result"
    }
   ],
   "source": [
    "train_data[train_data['damage_grade'] == 2].shape"
   ]
  },
  {
   "cell_type": "code",
   "execution_count": 79,
   "metadata": {},
   "outputs": [
    {
     "data": {
      "text/plain": [
       "(84588, 39)"
      ]
     },
     "execution_count": 79,
     "metadata": {},
     "output_type": "execute_result"
    }
   ],
   "source": [
    "train_data[train_data['damage_grade'] == 3].shape"
   ]
  },
  {
   "cell_type": "markdown",
   "metadata": {},
   "source": [
    "It has helped a little bit, but it also helps indirectly with balancing the data by other techniques later."
   ]
  },
  {
   "cell_type": "code",
   "execution_count": 80,
   "metadata": {},
   "outputs": [],
   "source": [
    "X_train, X_test, y_train, y_test = train_test_split(train_data_values,\n",
    "                                                    train_data_labels['damage_grade'],\n",
    "                                                    test_size=0.25,\n",
    "                                                    random_state=999)"
   ]
  },
  {
   "cell_type": "code",
   "execution_count": 81,
   "metadata": {},
   "outputs": [
    {
     "data": {
      "text/html": [
       "<div>\n",
       "<style scoped>\n",
       "    .dataframe tbody tr th:only-of-type {\n",
       "        vertical-align: middle;\n",
       "    }\n",
       "\n",
       "    .dataframe tbody tr th {\n",
       "        vertical-align: top;\n",
       "    }\n",
       "\n",
       "    .dataframe thead th {\n",
       "        text-align: right;\n",
       "    }\n",
       "</style>\n",
       "<table border=\"1\" class=\"dataframe\">\n",
       "  <thead>\n",
       "    <tr style=\"text-align: right;\">\n",
       "      <th></th>\n",
       "      <th>geo_level_1_id</th>\n",
       "      <th>geo_level_2_id</th>\n",
       "      <th>geo_level_3_id</th>\n",
       "      <th>count_floors_pre_eq</th>\n",
       "      <th>age</th>\n",
       "      <th>area_percentage</th>\n",
       "      <th>height_percentage</th>\n",
       "      <th>land_surface_condition</th>\n",
       "      <th>foundation_type</th>\n",
       "      <th>roof_type</th>\n",
       "      <th>...</th>\n",
       "      <th>has_secondary_use_agriculture</th>\n",
       "      <th>has_secondary_use_hotel</th>\n",
       "      <th>has_secondary_use_rental</th>\n",
       "      <th>has_secondary_use_institution</th>\n",
       "      <th>has_secondary_use_school</th>\n",
       "      <th>has_secondary_use_industry</th>\n",
       "      <th>has_secondary_use_health_post</th>\n",
       "      <th>has_secondary_use_gov_office</th>\n",
       "      <th>has_secondary_use_use_police</th>\n",
       "      <th>has_secondary_use_other</th>\n",
       "    </tr>\n",
       "    <tr>\n",
       "      <th>building_id</th>\n",
       "      <th></th>\n",
       "      <th></th>\n",
       "      <th></th>\n",
       "      <th></th>\n",
       "      <th></th>\n",
       "      <th></th>\n",
       "      <th></th>\n",
       "      <th></th>\n",
       "      <th></th>\n",
       "      <th></th>\n",
       "      <th></th>\n",
       "      <th></th>\n",
       "      <th></th>\n",
       "      <th></th>\n",
       "      <th></th>\n",
       "      <th></th>\n",
       "      <th></th>\n",
       "      <th></th>\n",
       "      <th></th>\n",
       "      <th></th>\n",
       "      <th></th>\n",
       "    </tr>\n",
       "  </thead>\n",
       "  <tbody>\n",
       "    <tr>\n",
       "      <th>985502</th>\n",
       "      <td>6</td>\n",
       "      <td>673</td>\n",
       "      <td>2937</td>\n",
       "      <td>2</td>\n",
       "      <td>5</td>\n",
       "      <td>13</td>\n",
       "      <td>6</td>\n",
       "      <td>t</td>\n",
       "      <td>i</td>\n",
       "      <td>x</td>\n",
       "      <td>...</td>\n",
       "      <td>0</td>\n",
       "      <td>0</td>\n",
       "      <td>0</td>\n",
       "      <td>0</td>\n",
       "      <td>0</td>\n",
       "      <td>0</td>\n",
       "      <td>0</td>\n",
       "      <td>0</td>\n",
       "      <td>0</td>\n",
       "      <td>0</td>\n",
       "    </tr>\n",
       "    <tr>\n",
       "      <th>140510</th>\n",
       "      <td>3</td>\n",
       "      <td>1387</td>\n",
       "      <td>2791</td>\n",
       "      <td>5</td>\n",
       "      <td>100</td>\n",
       "      <td>15</td>\n",
       "      <td>10</td>\n",
       "      <td>t</td>\n",
       "      <td>r</td>\n",
       "      <td>q</td>\n",
       "      <td>...</td>\n",
       "      <td>0</td>\n",
       "      <td>1</td>\n",
       "      <td>0</td>\n",
       "      <td>0</td>\n",
       "      <td>0</td>\n",
       "      <td>0</td>\n",
       "      <td>0</td>\n",
       "      <td>0</td>\n",
       "      <td>0</td>\n",
       "      <td>0</td>\n",
       "    </tr>\n",
       "    <tr>\n",
       "      <th>701507</th>\n",
       "      <td>11</td>\n",
       "      <td>765</td>\n",
       "      <td>3900</td>\n",
       "      <td>2</td>\n",
       "      <td>20</td>\n",
       "      <td>11</td>\n",
       "      <td>7</td>\n",
       "      <td>t</td>\n",
       "      <td>r</td>\n",
       "      <td>n</td>\n",
       "      <td>...</td>\n",
       "      <td>0</td>\n",
       "      <td>0</td>\n",
       "      <td>0</td>\n",
       "      <td>0</td>\n",
       "      <td>0</td>\n",
       "      <td>0</td>\n",
       "      <td>0</td>\n",
       "      <td>0</td>\n",
       "      <td>0</td>\n",
       "      <td>0</td>\n",
       "    </tr>\n",
       "    <tr>\n",
       "      <th>438410</th>\n",
       "      <td>17</td>\n",
       "      <td>1313</td>\n",
       "      <td>2490</td>\n",
       "      <td>3</td>\n",
       "      <td>0</td>\n",
       "      <td>8</td>\n",
       "      <td>6</td>\n",
       "      <td>t</td>\n",
       "      <td>r</td>\n",
       "      <td>q</td>\n",
       "      <td>...</td>\n",
       "      <td>0</td>\n",
       "      <td>0</td>\n",
       "      <td>0</td>\n",
       "      <td>0</td>\n",
       "      <td>0</td>\n",
       "      <td>0</td>\n",
       "      <td>0</td>\n",
       "      <td>0</td>\n",
       "      <td>0</td>\n",
       "      <td>0</td>\n",
       "    </tr>\n",
       "    <tr>\n",
       "      <th>800610</th>\n",
       "      <td>21</td>\n",
       "      <td>1219</td>\n",
       "      <td>2948</td>\n",
       "      <td>2</td>\n",
       "      <td>0</td>\n",
       "      <td>6</td>\n",
       "      <td>5</td>\n",
       "      <td>t</td>\n",
       "      <td>r</td>\n",
       "      <td>q</td>\n",
       "      <td>...</td>\n",
       "      <td>0</td>\n",
       "      <td>0</td>\n",
       "      <td>0</td>\n",
       "      <td>0</td>\n",
       "      <td>0</td>\n",
       "      <td>0</td>\n",
       "      <td>0</td>\n",
       "      <td>0</td>\n",
       "      <td>0</td>\n",
       "      <td>0</td>\n",
       "    </tr>\n",
       "    <tr>\n",
       "      <th>152270</th>\n",
       "      <td>22</td>\n",
       "      <td>763</td>\n",
       "      <td>4002</td>\n",
       "      <td>1</td>\n",
       "      <td>10</td>\n",
       "      <td>12</td>\n",
       "      <td>3</td>\n",
       "      <td>t</td>\n",
       "      <td>r</td>\n",
       "      <td>n</td>\n",
       "      <td>...</td>\n",
       "      <td>0</td>\n",
       "      <td>0</td>\n",
       "      <td>0</td>\n",
       "      <td>0</td>\n",
       "      <td>0</td>\n",
       "      <td>0</td>\n",
       "      <td>0</td>\n",
       "      <td>0</td>\n",
       "      <td>0</td>\n",
       "      <td>0</td>\n",
       "    </tr>\n",
       "    <tr>\n",
       "      <th>511298</th>\n",
       "      <td>16</td>\n",
       "      <td>1399</td>\n",
       "      <td>4589</td>\n",
       "      <td>1</td>\n",
       "      <td>30</td>\n",
       "      <td>6</td>\n",
       "      <td>3</td>\n",
       "      <td>n</td>\n",
       "      <td>r</td>\n",
       "      <td>n</td>\n",
       "      <td>...</td>\n",
       "      <td>0</td>\n",
       "      <td>0</td>\n",
       "      <td>0</td>\n",
       "      <td>0</td>\n",
       "      <td>0</td>\n",
       "      <td>0</td>\n",
       "      <td>0</td>\n",
       "      <td>0</td>\n",
       "      <td>0</td>\n",
       "      <td>0</td>\n",
       "    </tr>\n",
       "    <tr>\n",
       "      <th>42065</th>\n",
       "      <td>10</td>\n",
       "      <td>337</td>\n",
       "      <td>296</td>\n",
       "      <td>2</td>\n",
       "      <td>5</td>\n",
       "      <td>5</td>\n",
       "      <td>5</td>\n",
       "      <td>t</td>\n",
       "      <td>r</td>\n",
       "      <td>q</td>\n",
       "      <td>...</td>\n",
       "      <td>0</td>\n",
       "      <td>0</td>\n",
       "      <td>0</td>\n",
       "      <td>0</td>\n",
       "      <td>0</td>\n",
       "      <td>0</td>\n",
       "      <td>0</td>\n",
       "      <td>0</td>\n",
       "      <td>0</td>\n",
       "      <td>0</td>\n",
       "    </tr>\n",
       "    <tr>\n",
       "      <th>669566</th>\n",
       "      <td>13</td>\n",
       "      <td>1154</td>\n",
       "      <td>11118</td>\n",
       "      <td>2</td>\n",
       "      <td>20</td>\n",
       "      <td>7</td>\n",
       "      <td>4</td>\n",
       "      <td>n</td>\n",
       "      <td>r</td>\n",
       "      <td>n</td>\n",
       "      <td>...</td>\n",
       "      <td>0</td>\n",
       "      <td>0</td>\n",
       "      <td>0</td>\n",
       "      <td>0</td>\n",
       "      <td>0</td>\n",
       "      <td>0</td>\n",
       "      <td>0</td>\n",
       "      <td>0</td>\n",
       "      <td>0</td>\n",
       "      <td>0</td>\n",
       "    </tr>\n",
       "    <tr>\n",
       "      <th>760886</th>\n",
       "      <td>7</td>\n",
       "      <td>773</td>\n",
       "      <td>471</td>\n",
       "      <td>2</td>\n",
       "      <td>0</td>\n",
       "      <td>10</td>\n",
       "      <td>5</td>\n",
       "      <td>n</td>\n",
       "      <td>r</td>\n",
       "      <td>q</td>\n",
       "      <td>...</td>\n",
       "      <td>0</td>\n",
       "      <td>0</td>\n",
       "      <td>0</td>\n",
       "      <td>0</td>\n",
       "      <td>0</td>\n",
       "      <td>0</td>\n",
       "      <td>0</td>\n",
       "      <td>0</td>\n",
       "      <td>0</td>\n",
       "      <td>0</td>\n",
       "    </tr>\n",
       "  </tbody>\n",
       "</table>\n",
       "<p>10 rows × 38 columns</p>\n",
       "</div>"
      ],
      "text/plain": [
       "             geo_level_1_id  geo_level_2_id  geo_level_3_id  \\\n",
       "building_id                                                   \n",
       "985502                    6             673            2937   \n",
       "140510                    3            1387            2791   \n",
       "701507                   11             765            3900   \n",
       "438410                   17            1313            2490   \n",
       "800610                   21            1219            2948   \n",
       "152270                   22             763            4002   \n",
       "511298                   16            1399            4589   \n",
       "42065                    10             337             296   \n",
       "669566                   13            1154           11118   \n",
       "760886                    7             773             471   \n",
       "\n",
       "             count_floors_pre_eq  age  area_percentage  height_percentage  \\\n",
       "building_id                                                                 \n",
       "985502                         2    5               13                  6   \n",
       "140510                         5  100               15                 10   \n",
       "701507                         2   20               11                  7   \n",
       "438410                         3    0                8                  6   \n",
       "800610                         2    0                6                  5   \n",
       "152270                         1   10               12                  3   \n",
       "511298                         1   30                6                  3   \n",
       "42065                          2    5                5                  5   \n",
       "669566                         2   20                7                  4   \n",
       "760886                         2    0               10                  5   \n",
       "\n",
       "            land_surface_condition foundation_type roof_type  ...  \\\n",
       "building_id                                                   ...   \n",
       "985502                           t               i         x  ...   \n",
       "140510                           t               r         q  ...   \n",
       "701507                           t               r         n  ...   \n",
       "438410                           t               r         q  ...   \n",
       "800610                           t               r         q  ...   \n",
       "152270                           t               r         n  ...   \n",
       "511298                           n               r         n  ...   \n",
       "42065                            t               r         q  ...   \n",
       "669566                           n               r         n  ...   \n",
       "760886                           n               r         q  ...   \n",
       "\n",
       "            has_secondary_use_agriculture has_secondary_use_hotel  \\\n",
       "building_id                                                         \n",
       "985502                                  0                       0   \n",
       "140510                                  0                       1   \n",
       "701507                                  0                       0   \n",
       "438410                                  0                       0   \n",
       "800610                                  0                       0   \n",
       "152270                                  0                       0   \n",
       "511298                                  0                       0   \n",
       "42065                                   0                       0   \n",
       "669566                                  0                       0   \n",
       "760886                                  0                       0   \n",
       "\n",
       "            has_secondary_use_rental has_secondary_use_institution  \\\n",
       "building_id                                                          \n",
       "985502                             0                             0   \n",
       "140510                             0                             0   \n",
       "701507                             0                             0   \n",
       "438410                             0                             0   \n",
       "800610                             0                             0   \n",
       "152270                             0                             0   \n",
       "511298                             0                             0   \n",
       "42065                              0                             0   \n",
       "669566                             0                             0   \n",
       "760886                             0                             0   \n",
       "\n",
       "             has_secondary_use_school  has_secondary_use_industry  \\\n",
       "building_id                                                         \n",
       "985502                              0                           0   \n",
       "140510                              0                           0   \n",
       "701507                              0                           0   \n",
       "438410                              0                           0   \n",
       "800610                              0                           0   \n",
       "152270                              0                           0   \n",
       "511298                              0                           0   \n",
       "42065                               0                           0   \n",
       "669566                              0                           0   \n",
       "760886                              0                           0   \n",
       "\n",
       "             has_secondary_use_health_post  has_secondary_use_gov_office  \\\n",
       "building_id                                                                \n",
       "985502                                   0                             0   \n",
       "140510                                   0                             0   \n",
       "701507                                   0                             0   \n",
       "438410                                   0                             0   \n",
       "800610                                   0                             0   \n",
       "152270                                   0                             0   \n",
       "511298                                   0                             0   \n",
       "42065                                    0                             0   \n",
       "669566                                   0                             0   \n",
       "760886                                   0                             0   \n",
       "\n",
       "             has_secondary_use_use_police  has_secondary_use_other  \n",
       "building_id                                                         \n",
       "985502                                  0                        0  \n",
       "140510                                  0                        0  \n",
       "701507                                  0                        0  \n",
       "438410                                  0                        0  \n",
       "800610                                  0                        0  \n",
       "152270                                  0                        0  \n",
       "511298                                  0                        0  \n",
       "42065                                   0                        0  \n",
       "669566                                  0                        0  \n",
       "760886                                  0                        0  \n",
       "\n",
       "[10 rows x 38 columns]"
      ]
     },
     "execution_count": 81,
     "metadata": {},
     "output_type": "execute_result"
    }
   ],
   "source": [
    "X_train.head(10)"
   ]
  },
  {
   "cell_type": "code",
   "execution_count": 82,
   "metadata": {},
   "outputs": [],
   "source": [
    "preprocessor = ColumnTransformer(\n",
    "  transformers=[\n",
    "      ('ohe', OneHotEncoder(drop=\"first\"), categorical_features)\n",
    "  ],\n",
    "  remainder='passthrough'\n",
    ")"
   ]
  },
  {
   "cell_type": "code",
   "execution_count": 83,
   "metadata": {},
   "outputs": [],
   "source": [
    "X_train = pd.DataFrame(\n",
    "  preprocessor.fit_transform(X_train),\n",
    "  index=X_train.index,\n",
    "  columns=(\n",
    "    list(preprocessor.named_transformers_['ohe'].get_feature_names(categorical_features)) +\n",
    "    other_features\n",
    "  )\n",
    ")\n",
    "\n",
    "X_test = pd.DataFrame(preprocessor.transform(X_test),\n",
    "                      index=X_test.index,\n",
    "                      columns=X_train.columns)"
   ]
  },
  {
   "cell_type": "code",
   "execution_count": 84,
   "metadata": {},
   "outputs": [
    {
     "data": {
      "text/html": [
       "<div>\n",
       "<style scoped>\n",
       "    .dataframe tbody tr th:only-of-type {\n",
       "        vertical-align: middle;\n",
       "    }\n",
       "\n",
       "    .dataframe tbody tr th {\n",
       "        vertical-align: top;\n",
       "    }\n",
       "\n",
       "    .dataframe thead th {\n",
       "        text-align: right;\n",
       "    }\n",
       "</style>\n",
       "<table border=\"1\" class=\"dataframe\">\n",
       "  <thead>\n",
       "    <tr style=\"text-align: right;\">\n",
       "      <th></th>\n",
       "      <th>land_surface_condition_o</th>\n",
       "      <th>land_surface_condition_t</th>\n",
       "      <th>foundation_type_i</th>\n",
       "      <th>foundation_type_r</th>\n",
       "      <th>foundation_type_u</th>\n",
       "      <th>foundation_type_w</th>\n",
       "      <th>roof_type_q</th>\n",
       "      <th>roof_type_x</th>\n",
       "      <th>ground_floor_type_m</th>\n",
       "      <th>ground_floor_type_v</th>\n",
       "      <th>...</th>\n",
       "      <th>has_secondary_use_agriculture</th>\n",
       "      <th>has_secondary_use_hotel</th>\n",
       "      <th>has_secondary_use_rental</th>\n",
       "      <th>has_secondary_use_institution</th>\n",
       "      <th>has_secondary_use_school</th>\n",
       "      <th>has_secondary_use_industry</th>\n",
       "      <th>has_secondary_use_health_post</th>\n",
       "      <th>has_secondary_use_gov_office</th>\n",
       "      <th>has_secondary_use_use_police</th>\n",
       "      <th>has_secondary_use_other</th>\n",
       "    </tr>\n",
       "    <tr>\n",
       "      <th>building_id</th>\n",
       "      <th></th>\n",
       "      <th></th>\n",
       "      <th></th>\n",
       "      <th></th>\n",
       "      <th></th>\n",
       "      <th></th>\n",
       "      <th></th>\n",
       "      <th></th>\n",
       "      <th></th>\n",
       "      <th></th>\n",
       "      <th></th>\n",
       "      <th></th>\n",
       "      <th></th>\n",
       "      <th></th>\n",
       "      <th></th>\n",
       "      <th></th>\n",
       "      <th></th>\n",
       "      <th></th>\n",
       "      <th></th>\n",
       "      <th></th>\n",
       "      <th></th>\n",
       "    </tr>\n",
       "  </thead>\n",
       "  <tbody>\n",
       "    <tr>\n",
       "      <th>985502</th>\n",
       "      <td>0.0</td>\n",
       "      <td>1.0</td>\n",
       "      <td>1.0</td>\n",
       "      <td>0.0</td>\n",
       "      <td>0.0</td>\n",
       "      <td>0.0</td>\n",
       "      <td>0.0</td>\n",
       "      <td>1.0</td>\n",
       "      <td>0.0</td>\n",
       "      <td>1.0</td>\n",
       "      <td>...</td>\n",
       "      <td>0.0</td>\n",
       "      <td>0.0</td>\n",
       "      <td>0.0</td>\n",
       "      <td>0.0</td>\n",
       "      <td>0.0</td>\n",
       "      <td>0.0</td>\n",
       "      <td>0.0</td>\n",
       "      <td>0.0</td>\n",
       "      <td>0.0</td>\n",
       "      <td>0.0</td>\n",
       "    </tr>\n",
       "    <tr>\n",
       "      <th>140510</th>\n",
       "      <td>0.0</td>\n",
       "      <td>1.0</td>\n",
       "      <td>0.0</td>\n",
       "      <td>1.0</td>\n",
       "      <td>0.0</td>\n",
       "      <td>0.0</td>\n",
       "      <td>1.0</td>\n",
       "      <td>0.0</td>\n",
       "      <td>0.0</td>\n",
       "      <td>0.0</td>\n",
       "      <td>...</td>\n",
       "      <td>0.0</td>\n",
       "      <td>1.0</td>\n",
       "      <td>0.0</td>\n",
       "      <td>0.0</td>\n",
       "      <td>0.0</td>\n",
       "      <td>0.0</td>\n",
       "      <td>0.0</td>\n",
       "      <td>0.0</td>\n",
       "      <td>0.0</td>\n",
       "      <td>0.0</td>\n",
       "    </tr>\n",
       "    <tr>\n",
       "      <th>701507</th>\n",
       "      <td>0.0</td>\n",
       "      <td>1.0</td>\n",
       "      <td>0.0</td>\n",
       "      <td>1.0</td>\n",
       "      <td>0.0</td>\n",
       "      <td>0.0</td>\n",
       "      <td>0.0</td>\n",
       "      <td>0.0</td>\n",
       "      <td>0.0</td>\n",
       "      <td>0.0</td>\n",
       "      <td>...</td>\n",
       "      <td>0.0</td>\n",
       "      <td>0.0</td>\n",
       "      <td>0.0</td>\n",
       "      <td>0.0</td>\n",
       "      <td>0.0</td>\n",
       "      <td>0.0</td>\n",
       "      <td>0.0</td>\n",
       "      <td>0.0</td>\n",
       "      <td>0.0</td>\n",
       "      <td>0.0</td>\n",
       "    </tr>\n",
       "    <tr>\n",
       "      <th>438410</th>\n",
       "      <td>0.0</td>\n",
       "      <td>1.0</td>\n",
       "      <td>0.0</td>\n",
       "      <td>1.0</td>\n",
       "      <td>0.0</td>\n",
       "      <td>0.0</td>\n",
       "      <td>1.0</td>\n",
       "      <td>0.0</td>\n",
       "      <td>0.0</td>\n",
       "      <td>0.0</td>\n",
       "      <td>...</td>\n",
       "      <td>0.0</td>\n",
       "      <td>0.0</td>\n",
       "      <td>0.0</td>\n",
       "      <td>0.0</td>\n",
       "      <td>0.0</td>\n",
       "      <td>0.0</td>\n",
       "      <td>0.0</td>\n",
       "      <td>0.0</td>\n",
       "      <td>0.0</td>\n",
       "      <td>0.0</td>\n",
       "    </tr>\n",
       "    <tr>\n",
       "      <th>800610</th>\n",
       "      <td>0.0</td>\n",
       "      <td>1.0</td>\n",
       "      <td>0.0</td>\n",
       "      <td>1.0</td>\n",
       "      <td>0.0</td>\n",
       "      <td>0.0</td>\n",
       "      <td>1.0</td>\n",
       "      <td>0.0</td>\n",
       "      <td>0.0</td>\n",
       "      <td>0.0</td>\n",
       "      <td>...</td>\n",
       "      <td>0.0</td>\n",
       "      <td>0.0</td>\n",
       "      <td>0.0</td>\n",
       "      <td>0.0</td>\n",
       "      <td>0.0</td>\n",
       "      <td>0.0</td>\n",
       "      <td>0.0</td>\n",
       "      <td>0.0</td>\n",
       "      <td>0.0</td>\n",
       "      <td>0.0</td>\n",
       "    </tr>\n",
       "    <tr>\n",
       "      <th>152270</th>\n",
       "      <td>0.0</td>\n",
       "      <td>1.0</td>\n",
       "      <td>0.0</td>\n",
       "      <td>1.0</td>\n",
       "      <td>0.0</td>\n",
       "      <td>0.0</td>\n",
       "      <td>0.0</td>\n",
       "      <td>0.0</td>\n",
       "      <td>0.0</td>\n",
       "      <td>0.0</td>\n",
       "      <td>...</td>\n",
       "      <td>0.0</td>\n",
       "      <td>0.0</td>\n",
       "      <td>0.0</td>\n",
       "      <td>0.0</td>\n",
       "      <td>0.0</td>\n",
       "      <td>0.0</td>\n",
       "      <td>0.0</td>\n",
       "      <td>0.0</td>\n",
       "      <td>0.0</td>\n",
       "      <td>0.0</td>\n",
       "    </tr>\n",
       "    <tr>\n",
       "      <th>511298</th>\n",
       "      <td>0.0</td>\n",
       "      <td>0.0</td>\n",
       "      <td>0.0</td>\n",
       "      <td>1.0</td>\n",
       "      <td>0.0</td>\n",
       "      <td>0.0</td>\n",
       "      <td>0.0</td>\n",
       "      <td>0.0</td>\n",
       "      <td>0.0</td>\n",
       "      <td>0.0</td>\n",
       "      <td>...</td>\n",
       "      <td>0.0</td>\n",
       "      <td>0.0</td>\n",
       "      <td>0.0</td>\n",
       "      <td>0.0</td>\n",
       "      <td>0.0</td>\n",
       "      <td>0.0</td>\n",
       "      <td>0.0</td>\n",
       "      <td>0.0</td>\n",
       "      <td>0.0</td>\n",
       "      <td>0.0</td>\n",
       "    </tr>\n",
       "    <tr>\n",
       "      <th>42065</th>\n",
       "      <td>0.0</td>\n",
       "      <td>1.0</td>\n",
       "      <td>0.0</td>\n",
       "      <td>1.0</td>\n",
       "      <td>0.0</td>\n",
       "      <td>0.0</td>\n",
       "      <td>1.0</td>\n",
       "      <td>0.0</td>\n",
       "      <td>0.0</td>\n",
       "      <td>0.0</td>\n",
       "      <td>...</td>\n",
       "      <td>0.0</td>\n",
       "      <td>0.0</td>\n",
       "      <td>0.0</td>\n",
       "      <td>0.0</td>\n",
       "      <td>0.0</td>\n",
       "      <td>0.0</td>\n",
       "      <td>0.0</td>\n",
       "      <td>0.0</td>\n",
       "      <td>0.0</td>\n",
       "      <td>0.0</td>\n",
       "    </tr>\n",
       "    <tr>\n",
       "      <th>669566</th>\n",
       "      <td>0.0</td>\n",
       "      <td>0.0</td>\n",
       "      <td>0.0</td>\n",
       "      <td>1.0</td>\n",
       "      <td>0.0</td>\n",
       "      <td>0.0</td>\n",
       "      <td>0.0</td>\n",
       "      <td>0.0</td>\n",
       "      <td>0.0</td>\n",
       "      <td>0.0</td>\n",
       "      <td>...</td>\n",
       "      <td>0.0</td>\n",
       "      <td>0.0</td>\n",
       "      <td>0.0</td>\n",
       "      <td>0.0</td>\n",
       "      <td>0.0</td>\n",
       "      <td>0.0</td>\n",
       "      <td>0.0</td>\n",
       "      <td>0.0</td>\n",
       "      <td>0.0</td>\n",
       "      <td>0.0</td>\n",
       "    </tr>\n",
       "    <tr>\n",
       "      <th>760886</th>\n",
       "      <td>0.0</td>\n",
       "      <td>0.0</td>\n",
       "      <td>0.0</td>\n",
       "      <td>1.0</td>\n",
       "      <td>0.0</td>\n",
       "      <td>0.0</td>\n",
       "      <td>1.0</td>\n",
       "      <td>0.0</td>\n",
       "      <td>0.0</td>\n",
       "      <td>0.0</td>\n",
       "      <td>...</td>\n",
       "      <td>0.0</td>\n",
       "      <td>0.0</td>\n",
       "      <td>0.0</td>\n",
       "      <td>0.0</td>\n",
       "      <td>0.0</td>\n",
       "      <td>0.0</td>\n",
       "      <td>0.0</td>\n",
       "      <td>0.0</td>\n",
       "      <td>0.0</td>\n",
       "      <td>0.0</td>\n",
       "    </tr>\n",
       "  </tbody>\n",
       "</table>\n",
       "<p>10 rows × 60 columns</p>\n",
       "</div>"
      ],
      "text/plain": [
       "             land_surface_condition_o  land_surface_condition_t  \\\n",
       "building_id                                                       \n",
       "985502                            0.0                       1.0   \n",
       "140510                            0.0                       1.0   \n",
       "701507                            0.0                       1.0   \n",
       "438410                            0.0                       1.0   \n",
       "800610                            0.0                       1.0   \n",
       "152270                            0.0                       1.0   \n",
       "511298                            0.0                       0.0   \n",
       "42065                             0.0                       1.0   \n",
       "669566                            0.0                       0.0   \n",
       "760886                            0.0                       0.0   \n",
       "\n",
       "             foundation_type_i  foundation_type_r  foundation_type_u  \\\n",
       "building_id                                                            \n",
       "985502                     1.0                0.0                0.0   \n",
       "140510                     0.0                1.0                0.0   \n",
       "701507                     0.0                1.0                0.0   \n",
       "438410                     0.0                1.0                0.0   \n",
       "800610                     0.0                1.0                0.0   \n",
       "152270                     0.0                1.0                0.0   \n",
       "511298                     0.0                1.0                0.0   \n",
       "42065                      0.0                1.0                0.0   \n",
       "669566                     0.0                1.0                0.0   \n",
       "760886                     0.0                1.0                0.0   \n",
       "\n",
       "             foundation_type_w  roof_type_q  roof_type_x  ground_floor_type_m  \\\n",
       "building_id                                                                     \n",
       "985502                     0.0          0.0          1.0                  0.0   \n",
       "140510                     0.0          1.0          0.0                  0.0   \n",
       "701507                     0.0          0.0          0.0                  0.0   \n",
       "438410                     0.0          1.0          0.0                  0.0   \n",
       "800610                     0.0          1.0          0.0                  0.0   \n",
       "152270                     0.0          0.0          0.0                  0.0   \n",
       "511298                     0.0          0.0          0.0                  0.0   \n",
       "42065                      0.0          1.0          0.0                  0.0   \n",
       "669566                     0.0          0.0          0.0                  0.0   \n",
       "760886                     0.0          1.0          0.0                  0.0   \n",
       "\n",
       "             ground_floor_type_v  ...  has_secondary_use_agriculture  \\\n",
       "building_id                       ...                                  \n",
       "985502                       1.0  ...                            0.0   \n",
       "140510                       0.0  ...                            0.0   \n",
       "701507                       0.0  ...                            0.0   \n",
       "438410                       0.0  ...                            0.0   \n",
       "800610                       0.0  ...                            0.0   \n",
       "152270                       0.0  ...                            0.0   \n",
       "511298                       0.0  ...                            0.0   \n",
       "42065                        0.0  ...                            0.0   \n",
       "669566                       0.0  ...                            0.0   \n",
       "760886                       0.0  ...                            0.0   \n",
       "\n",
       "             has_secondary_use_hotel  has_secondary_use_rental  \\\n",
       "building_id                                                      \n",
       "985502                           0.0                       0.0   \n",
       "140510                           1.0                       0.0   \n",
       "701507                           0.0                       0.0   \n",
       "438410                           0.0                       0.0   \n",
       "800610                           0.0                       0.0   \n",
       "152270                           0.0                       0.0   \n",
       "511298                           0.0                       0.0   \n",
       "42065                            0.0                       0.0   \n",
       "669566                           0.0                       0.0   \n",
       "760886                           0.0                       0.0   \n",
       "\n",
       "             has_secondary_use_institution  has_secondary_use_school  \\\n",
       "building_id                                                            \n",
       "985502                                 0.0                       0.0   \n",
       "140510                                 0.0                       0.0   \n",
       "701507                                 0.0                       0.0   \n",
       "438410                                 0.0                       0.0   \n",
       "800610                                 0.0                       0.0   \n",
       "152270                                 0.0                       0.0   \n",
       "511298                                 0.0                       0.0   \n",
       "42065                                  0.0                       0.0   \n",
       "669566                                 0.0                       0.0   \n",
       "760886                                 0.0                       0.0   \n",
       "\n",
       "             has_secondary_use_industry  has_secondary_use_health_post  \\\n",
       "building_id                                                              \n",
       "985502                              0.0                            0.0   \n",
       "140510                              0.0                            0.0   \n",
       "701507                              0.0                            0.0   \n",
       "438410                              0.0                            0.0   \n",
       "800610                              0.0                            0.0   \n",
       "152270                              0.0                            0.0   \n",
       "511298                              0.0                            0.0   \n",
       "42065                               0.0                            0.0   \n",
       "669566                              0.0                            0.0   \n",
       "760886                              0.0                            0.0   \n",
       "\n",
       "             has_secondary_use_gov_office  has_secondary_use_use_police  \\\n",
       "building_id                                                               \n",
       "985502                                0.0                           0.0   \n",
       "140510                                0.0                           0.0   \n",
       "701507                                0.0                           0.0   \n",
       "438410                                0.0                           0.0   \n",
       "800610                                0.0                           0.0   \n",
       "152270                                0.0                           0.0   \n",
       "511298                                0.0                           0.0   \n",
       "42065                                 0.0                           0.0   \n",
       "669566                                0.0                           0.0   \n",
       "760886                                0.0                           0.0   \n",
       "\n",
       "             has_secondary_use_other  \n",
       "building_id                           \n",
       "985502                           0.0  \n",
       "140510                           0.0  \n",
       "701507                           0.0  \n",
       "438410                           0.0  \n",
       "800610                           0.0  \n",
       "152270                           0.0  \n",
       "511298                           0.0  \n",
       "42065                            0.0  \n",
       "669566                           0.0  \n",
       "760886                           0.0  \n",
       "\n",
       "[10 rows x 60 columns]"
      ]
     },
     "execution_count": 84,
     "metadata": {},
     "output_type": "execute_result"
    }
   ],
   "source": [
    "X_train.head(10)"
   ]
  },
  {
   "cell_type": "code",
   "execution_count": 85,
   "metadata": {},
   "outputs": [],
   "source": [
    "sm = SMOTE(random_state=27)"
   ]
  },
  {
   "cell_type": "code",
   "execution_count": 86,
   "metadata": {},
   "outputs": [],
   "source": [
    "X_train, y_train = sm.fit_sample(X_train, y_train)"
   ]
  },
  {
   "cell_type": "code",
   "execution_count": 20,
   "metadata": {},
   "outputs": [],
   "source": [
    "parameters = { \n",
    "  'min_samples_split': [5, 10],\n",
    "  'n_estimators': [100, 150]\n",
    "}"
   ]
  },
  {
   "cell_type": "code",
   "execution_count": null,
   "metadata": {},
   "outputs": [],
   "source": [
    "rfc = GridSearchCV(\n",
    "  RandomForestClassifier(), \n",
    "  parameters, \n",
    "  cv=5,\n",
    "  scoring=make_scorer(f1_score, average='micro'),\n",
    "  verbose=2\n",
    ").fit(X_train, y_train)"
   ]
  },
  {
   "cell_type": "code",
   "execution_count": 22,
   "metadata": {},
   "outputs": [],
   "source": [
    "dummy = DummyClassifier(strategy='uniform').fit(X_train, y_train)"
   ]
  },
  {
   "cell_type": "code",
   "execution_count": 23,
   "metadata": {},
   "outputs": [],
   "source": [
    "rfc_pred = rfc.predict(X_test)"
   ]
  },
  {
   "cell_type": "code",
   "execution_count": 24,
   "metadata": {},
   "outputs": [],
   "source": [
    "dummy_pred = dummy.predict(X_test)"
   ]
  },
  {
   "cell_type": "code",
   "execution_count": 25,
   "metadata": {},
   "outputs": [
    {
     "data": {
      "text/plain": [
       "0.7154456570121718"
      ]
     },
     "execution_count": 25,
     "metadata": {},
     "output_type": "execute_result"
    }
   ],
   "source": [
    "f1_score(y_test, rfc_pred, average='micro')"
   ]
  },
  {
   "cell_type": "code",
   "execution_count": 26,
   "metadata": {},
   "outputs": [
    {
     "data": {
      "text/plain": [
       "0.3321975103989194"
      ]
     },
     "execution_count": 26,
     "metadata": {},
     "output_type": "execute_result"
    }
   ],
   "source": [
    "f1_score(y_test, dummy_pred, average='micro')"
   ]
  },
  {
   "cell_type": "code",
   "execution_count": 27,
   "metadata": {},
   "outputs": [
    {
     "data": {
      "text/plain": [
       "{'min_samples_split': 5, 'n_estimators': 150}"
      ]
     },
     "execution_count": 27,
     "metadata": {},
     "output_type": "execute_result"
    }
   ],
   "source": [
    "rfc.best_params_"
   ]
  },
  {
   "cell_type": "code",
   "execution_count": 28,
   "metadata": {},
   "outputs": [
    {
     "data": {
      "text/plain": [
       "array([4.12697544e-03, 1.34810288e-02, 1.48282469e-02, 5.58917837e-02,\n",
       "       7.12132740e-03, 1.57045446e-02, 1.81129986e-02, 2.44310584e-02,\n",
       "       4.94440893e-04, 3.40336518e-02, 9.13055031e-03, 7.27331681e-04,\n",
       "       2.86526569e-02, 5.89886443e-03, 1.01790457e-02, 9.01005288e-04,\n",
       "       1.68189435e-02, 1.62162891e-02, 2.45230148e-04, 4.56663325e-03,\n",
       "       1.14111400e-05, 3.00304655e-05, 5.99546937e-05, 1.35121410e-04,\n",
       "       2.91398000e-03, 2.84988168e-04, 2.28845934e-03, 9.48629233e-04,\n",
       "       4.89757230e-03, 1.38871781e-03, 1.19122582e-01, 8.80213876e-02,\n",
       "       8.42721671e-02, 3.61010965e-02, 7.27864144e-02, 6.36890294e-02,\n",
       "       4.75152927e-02, 9.86192223e-03, 5.67590125e-02, 7.08064322e-03,\n",
       "       3.58430938e-03, 8.63231908e-03, 2.14022479e-02, 1.86385007e-02,\n",
       "       9.54495662e-03, 8.64149719e-03, 5.23642474e-03, 3.25112912e-03,\n",
       "       2.05913881e-02, 8.80682209e-03, 5.30510040e-03, 4.05387948e-03,\n",
       "       1.06703636e-03, 1.66313150e-04, 6.80921112e-05, 2.04605176e-04,\n",
       "       3.83044890e-05, 1.93463643e-05, 4.17705337e-05, 9.74937864e-04])"
      ]
     },
     "execution_count": 28,
     "metadata": {},
     "output_type": "execute_result"
    }
   ],
   "source": [
    "rfc.best_estimator_.feature_importances_"
   ]
  },
  {
   "cell_type": "code",
   "execution_count": 29,
   "metadata": {},
   "outputs": [
    {
     "data": {
      "text/plain": [
       "Index(['land_surface_condition_o', 'land_surface_condition_t',\n",
       "       'foundation_type_i', 'foundation_type_r', 'foundation_type_u',\n",
       "       'foundation_type_w', 'roof_type_q', 'roof_type_x',\n",
       "       'ground_floor_type_m', 'ground_floor_type_v', 'ground_floor_type_x',\n",
       "       'ground_floor_type_z', 'other_floor_type_q', 'other_floor_type_s',\n",
       "       'other_floor_type_x', 'position_o', 'position_s', 'position_t',\n",
       "       'plan_configuration_c', 'plan_configuration_d', 'plan_configuration_f',\n",
       "       'plan_configuration_m', 'plan_configuration_n', 'plan_configuration_o',\n",
       "       'plan_configuration_q', 'plan_configuration_s', 'plan_configuration_u',\n",
       "       'legal_ownership_status_r', 'legal_ownership_status_v',\n",
       "       'legal_ownership_status_w', 'geo_level_1_id', 'geo_level_2_id',\n",
       "       'geo_level_3_id', 'count_floors_pre_eq', 'age', 'area_percentage',\n",
       "       'height_percentage', 'has_superstructure_adobe_mud',\n",
       "       'has_superstructure_mud_mortar_stone', 'has_superstructure_stone_flag',\n",
       "       'has_superstructure_cement_mortar_stone',\n",
       "       'has_superstructure_mud_mortar_brick',\n",
       "       'has_superstructure_cement_mortar_brick', 'has_superstructure_timber',\n",
       "       'has_superstructure_bamboo', 'has_superstructure_rc_non_engineered',\n",
       "       'has_superstructure_rc_engineered', 'has_superstructure_other',\n",
       "       'count_families', 'has_secondary_use', 'has_secondary_use_agriculture',\n",
       "       'has_secondary_use_hotel', 'has_secondary_use_rental',\n",
       "       'has_secondary_use_institution', 'has_secondary_use_school',\n",
       "       'has_secondary_use_industry', 'has_secondary_use_health_post',\n",
       "       'has_secondary_use_gov_office', 'has_secondary_use_use_police',\n",
       "       'has_secondary_use_other'],\n",
       "      dtype='object')"
      ]
     },
     "execution_count": 29,
     "metadata": {},
     "output_type": "execute_result"
    }
   ],
   "source": [
    "X_test.columns"
   ]
  },
  {
   "cell_type": "code",
   "execution_count": 30,
   "metadata": {},
   "outputs": [],
   "source": [
    "feature_importantance_series = pd.Series(rfc.best_estimator_.feature_importances_)"
   ]
  },
  {
   "cell_type": "code",
   "execution_count": 31,
   "metadata": {},
   "outputs": [],
   "source": [
    "feature_importantance_series.index = X_test.columns"
   ]
  },
  {
   "cell_type": "code",
   "execution_count": 32,
   "metadata": {},
   "outputs": [
    {
     "data": {
      "text/plain": [
       "geo_level_1_id                            0.119123\n",
       "geo_level_2_id                            0.088021\n",
       "geo_level_3_id                            0.084272\n",
       "age                                       0.072786\n",
       "area_percentage                           0.063689\n",
       "has_superstructure_mud_mortar_stone       0.056759\n",
       "foundation_type_r                         0.055892\n",
       "height_percentage                         0.047515\n",
       "count_floors_pre_eq                       0.036101\n",
       "ground_floor_type_v                       0.034034\n",
       "other_floor_type_q                        0.028653\n",
       "roof_type_x                               0.024431\n",
       "has_superstructure_cement_mortar_brick    0.021402\n",
       "count_families                            0.020591\n",
       "has_superstructure_timber                 0.018639\n",
       "roof_type_q                               0.018113\n",
       "position_s                                0.016819\n",
       "position_t                                0.016216\n",
       "foundation_type_w                         0.015705\n",
       "foundation_type_i                         0.014828\n",
       "land_surface_condition_t                  0.013481\n",
       "other_floor_type_x                        0.010179\n",
       "has_superstructure_adobe_mud              0.009862\n",
       "has_superstructure_bamboo                 0.009545\n",
       "ground_floor_type_x                       0.009131\n",
       "has_secondary_use                         0.008807\n",
       "has_superstructure_rc_non_engineered      0.008641\n",
       "has_superstructure_mud_mortar_brick       0.008632\n",
       "foundation_type_u                         0.007121\n",
       "has_superstructure_stone_flag             0.007081\n",
       "other_floor_type_s                        0.005899\n",
       "has_secondary_use_agriculture             0.005305\n",
       "has_superstructure_rc_engineered          0.005236\n",
       "legal_ownership_status_v                  0.004898\n",
       "plan_configuration_d                      0.004567\n",
       "land_surface_condition_o                  0.004127\n",
       "has_secondary_use_hotel                   0.004054\n",
       "has_superstructure_cement_mortar_stone    0.003584\n",
       "has_superstructure_other                  0.003251\n",
       "plan_configuration_q                      0.002914\n",
       "plan_configuration_u                      0.002288\n",
       "legal_ownership_status_w                  0.001389\n",
       "has_secondary_use_rental                  0.001067\n",
       "has_secondary_use_other                   0.000975\n",
       "legal_ownership_status_r                  0.000949\n",
       "position_o                                0.000901\n",
       "ground_floor_type_z                       0.000727\n",
       "ground_floor_type_m                       0.000494\n",
       "plan_configuration_s                      0.000285\n",
       "plan_configuration_c                      0.000245\n",
       "has_secondary_use_industry                0.000205\n",
       "has_secondary_use_institution             0.000166\n",
       "plan_configuration_o                      0.000135\n",
       "has_secondary_use_school                  0.000068\n",
       "plan_configuration_n                      0.000060\n",
       "has_secondary_use_use_police              0.000042\n",
       "has_secondary_use_health_post             0.000038\n",
       "plan_configuration_m                      0.000030\n",
       "has_secondary_use_gov_office              0.000019\n",
       "plan_configuration_f                      0.000011\n",
       "dtype: float64"
      ]
     },
     "execution_count": 32,
     "metadata": {},
     "output_type": "execute_result"
    }
   ],
   "source": [
    "feature_importantance_series.sort_values(ascending=False)"
   ]
  },
  {
   "cell_type": "code",
   "execution_count": 95,
   "metadata": {},
   "outputs": [],
   "source": [
    "xgb_parameters = {\n",
    "  'max_depth': [6, 10],\n",
    "  'colsample_bytree': [0.8]\n",
    "}"
   ]
  },
  {
   "cell_type": "code",
   "execution_count": null,
   "metadata": {},
   "outputs": [],
   "source": [
    "xgb_model = GridSearchCV(\n",
    "  XGBClassifier(), \n",
    "  xgb_parameters, \n",
    "  cv=5,\n",
    "  scoring=make_scorer(f1_score, average='micro'),\n",
    "  verbose=2\n",
    ").fit(X_train, y_train)"
   ]
  },
  {
   "cell_type": "code",
   "execution_count": 97,
   "metadata": {},
   "outputs": [
    {
     "data": {
      "text/plain": [
       "{'colsample_bytree': 0.8, 'max_depth': 10}"
      ]
     },
     "execution_count": 97,
     "metadata": {},
     "output_type": "execute_result"
    }
   ],
   "source": [
    "xgb_model.best_params_"
   ]
  },
  {
   "cell_type": "code",
   "execution_count": 98,
   "metadata": {},
   "outputs": [
    {
     "data": {
      "text/plain": [
       "array([0.0051761 , 0.00898156, 0.0269817 , 0.35768974, 0.01765117,\n",
       "       0.01960185, 0.01617406, 0.01229804, 0.00468889, 0.04411929,\n",
       "       0.00520313, 0.00319394, 0.04038239, 0.00439255, 0.00741334,\n",
       "       0.00229994, 0.02620419, 0.01077505, 0.00310347, 0.00574895,\n",
       "       0.        , 0.00519479, 0.00327846, 0.00330452, 0.00405099,\n",
       "       0.00249583, 0.00676117, 0.00264473, 0.00439563, 0.0039854 ,\n",
       "       0.04047594, 0.00817027, 0.00366049, 0.02061346, 0.01205816,\n",
       "       0.00760393, 0.0078385 , 0.01316659, 0.06037288, 0.02069468,\n",
       "       0.00621894, 0.01279929, 0.02414555, 0.01093778, 0.00836611,\n",
       "       0.00564653, 0.01229437, 0.00542065, 0.01404187, 0.01610699,\n",
       "       0.00522421, 0.0042778 , 0.00442137, 0.00244279, 0.00073108,\n",
       "       0.00164371, 0.00313185, 0.        , 0.00530979, 0.00399351],\n",
       "      dtype=float32)"
      ]
     },
     "execution_count": 98,
     "metadata": {},
     "output_type": "execute_result"
    }
   ],
   "source": [
    "xgb_model.best_estimator_.feature_importances_"
   ]
  },
  {
   "cell_type": "code",
   "execution_count": 99,
   "metadata": {},
   "outputs": [
    {
     "data": {
      "text/plain": [
       "foundation_type_r                         0.357690\n",
       "has_superstructure_mud_mortar_stone       0.060373\n",
       "ground_floor_type_v                       0.044119\n",
       "geo_level_1_id                            0.040476\n",
       "other_floor_type_q                        0.040382\n",
       "foundation_type_i                         0.026982\n",
       "position_s                                0.026204\n",
       "has_superstructure_cement_mortar_brick    0.024146\n",
       "has_superstructure_stone_flag             0.020695\n",
       "count_floors_pre_eq                       0.020613\n",
       "foundation_type_w                         0.019602\n",
       "foundation_type_u                         0.017651\n",
       "roof_type_q                               0.016174\n",
       "has_secondary_use                         0.016107\n",
       "count_families                            0.014042\n",
       "has_superstructure_adobe_mud              0.013167\n",
       "has_superstructure_mud_mortar_brick       0.012799\n",
       "roof_type_x                               0.012298\n",
       "has_superstructure_rc_engineered          0.012294\n",
       "age                                       0.012058\n",
       "has_superstructure_timber                 0.010938\n",
       "position_t                                0.010775\n",
       "land_surface_condition_t                  0.008982\n",
       "has_superstructure_bamboo                 0.008366\n",
       "geo_level_2_id                            0.008170\n",
       "height_percentage                         0.007839\n",
       "area_percentage                           0.007604\n",
       "other_floor_type_x                        0.007413\n",
       "plan_configuration_u                      0.006761\n",
       "has_superstructure_cement_mortar_stone    0.006219\n",
       "plan_configuration_d                      0.005749\n",
       "has_superstructure_rc_non_engineered      0.005647\n",
       "has_superstructure_other                  0.005421\n",
       "has_secondary_use_use_police              0.005310\n",
       "has_secondary_use_agriculture             0.005224\n",
       "ground_floor_type_x                       0.005203\n",
       "plan_configuration_m                      0.005195\n",
       "land_surface_condition_o                  0.005176\n",
       "ground_floor_type_m                       0.004689\n",
       "has_secondary_use_rental                  0.004421\n",
       "legal_ownership_status_v                  0.004396\n",
       "other_floor_type_s                        0.004393\n",
       "has_secondary_use_hotel                   0.004278\n",
       "plan_configuration_q                      0.004051\n",
       "has_secondary_use_other                   0.003994\n",
       "legal_ownership_status_w                  0.003985\n",
       "geo_level_3_id                            0.003660\n",
       "plan_configuration_o                      0.003305\n",
       "plan_configuration_n                      0.003278\n",
       "ground_floor_type_z                       0.003194\n",
       "has_secondary_use_health_post             0.003132\n",
       "plan_configuration_c                      0.003103\n",
       "legal_ownership_status_r                  0.002645\n",
       "plan_configuration_s                      0.002496\n",
       "has_secondary_use_institution             0.002443\n",
       "position_o                                0.002300\n",
       "has_secondary_use_industry                0.001644\n",
       "has_secondary_use_school                  0.000731\n",
       "plan_configuration_f                      0.000000\n",
       "has_secondary_use_gov_office              0.000000\n",
       "dtype: float32"
      ]
     },
     "execution_count": 99,
     "metadata": {},
     "output_type": "execute_result"
    }
   ],
   "source": [
    "feature_importantance_series = pd.Series(xgb_model.best_estimator_.feature_importances_)\n",
    "feature_importantance_series.index = X_test.columns\n",
    "feature_importantance_series.sort_values(ascending=False)"
   ]
  },
  {
   "cell_type": "code",
   "execution_count": 100,
   "metadata": {},
   "outputs": [
    {
     "name": "stderr",
     "output_type": "stream",
     "text": [
      "/Users/jackyho/anaconda3/lib/python3.7/site-packages/ipykernel_launcher.py:1: FutureWarning: Method .as_matrix will be removed in a future version. Use .values instead.\n",
      "  \"\"\"Entry point for launching an IPython kernel.\n"
     ]
    }
   ],
   "source": [
    "xgb_pred = xgb_model.predict(X_test.as_matrix())"
   ]
  },
  {
   "cell_type": "code",
   "execution_count": 101,
   "metadata": {},
   "outputs": [
    {
     "data": {
      "text/plain": [
       "0.722153151908643"
      ]
     },
     "execution_count": 101,
     "metadata": {},
     "output_type": "execute_result"
    }
   ],
   "source": [
    "f1_score(y_test, xgb_pred, average='micro')"
   ]
  },
  {
   "cell_type": "code",
   "execution_count": 89,
   "metadata": {},
   "outputs": [],
   "source": [
    "light_parameters = {\n",
    "  'num_leaves': [50, 80, 150],\n",
    "  'min_data_in_leaf': [50, 100, 300],\n",
    "  'max_depth': [5, 10]\n",
    "}"
   ]
  },
  {
   "cell_type": "code",
   "execution_count": null,
   "metadata": {},
   "outputs": [],
   "source": [
    "light_model = GridSearchCV(\n",
    "  LGBMClassifier(), \n",
    "  light_parameters, \n",
    "  cv=5,\n",
    "  scoring=make_scorer(f1_score, average='micro'),\n",
    "  verbose=2\n",
    ").fit(X_train, y_train)"
   ]
  },
  {
   "cell_type": "code",
   "execution_count": 91,
   "metadata": {},
   "outputs": [
    {
     "data": {
      "text/plain": [
       "geo_level_2_id                            7895\n",
       "geo_level_1_id                            6902\n",
       "geo_level_3_id                            5436\n",
       "area_percentage                           3016\n",
       "age                                       2881\n",
       "height_percentage                         1955\n",
       "count_floors_pre_eq                       1250\n",
       "count_families                            1105\n",
       "has_superstructure_mud_mortar_stone        977\n",
       "has_superstructure_timber                  928\n",
       "roof_type_q                                923\n",
       "position_s                                 636\n",
       "land_surface_condition_t                   634\n",
       "has_superstructure_cement_mortar_brick     623\n",
       "other_floor_type_q                         586\n",
       "foundation_type_r                          541\n",
       "ground_floor_type_v                        519\n",
       "has_secondary_use                          517\n",
       "ground_floor_type_x                        504\n",
       "other_floor_type_x                         481\n",
       "has_superstructure_bamboo                  442\n",
       "has_superstructure_stone_flag              434\n",
       "has_superstructure_adobe_mud               429\n",
       "position_t                                 408\n",
       "roof_type_x                                398\n",
       "has_superstructure_mud_mortar_brick        375\n",
       "has_superstructure_rc_non_engineered       360\n",
       "foundation_type_u                          355\n",
       "has_superstructure_cement_mortar_stone     284\n",
       "legal_ownership_status_v                   272\n",
       "has_superstructure_other                   255\n",
       "foundation_type_w                          231\n",
       "land_surface_condition_o                   227\n",
       "has_secondary_use_agriculture              216\n",
       "plan_configuration_d                       213\n",
       "has_superstructure_rc_engineered           210\n",
       "foundation_type_i                          194\n",
       "other_floor_type_s                         192\n",
       "has_secondary_use_hotel                    170\n",
       "plan_configuration_u                       150\n",
       "plan_configuration_q                       140\n",
       "has_secondary_use_other                     89\n",
       "has_secondary_use_rental                    83\n",
       "legal_ownership_status_w                    65\n",
       "legal_ownership_status_r                    42\n",
       "ground_floor_type_m                         37\n",
       "ground_floor_type_z                         36\n",
       "position_o                                  31\n",
       "plan_configuration_c                        15\n",
       "has_secondary_use_industry                   7\n",
       "has_secondary_use_institution                6\n",
       "plan_configuration_s                         3\n",
       "plan_configuration_o                         1\n",
       "has_secondary_use_school                     1\n",
       "plan_configuration_n                         0\n",
       "plan_configuration_m                         0\n",
       "plan_configuration_f                         0\n",
       "has_secondary_use_use_police                 0\n",
       "has_secondary_use_health_post                0\n",
       "has_secondary_use_gov_office                 0\n",
       "dtype: int64"
      ]
     },
     "execution_count": 91,
     "metadata": {},
     "output_type": "execute_result"
    }
   ],
   "source": [
    "feature_importantance_series = pd.Series(light_model.best_estimator_.feature_importances_)\n",
    "feature_importantance_series.index = X_test.columns\n",
    "feature_importantance_series.sort_values(ascending=False)"
   ]
  },
  {
   "cell_type": "code",
   "execution_count": 92,
   "metadata": {},
   "outputs": [
    {
     "data": {
      "text/plain": [
       "{'max_depth': 10, 'min_data_in_leaf': 50, 'num_leaves': 150}"
      ]
     },
     "execution_count": 92,
     "metadata": {},
     "output_type": "execute_result"
    }
   ],
   "source": [
    "light_model.best_params_"
   ]
  },
  {
   "cell_type": "code",
   "execution_count": 93,
   "metadata": {},
   "outputs": [],
   "source": [
    "light_pred = light_model.predict(X_test)"
   ]
  },
  {
   "cell_type": "code",
   "execution_count": 94,
   "metadata": {},
   "outputs": [
    {
     "data": {
      "text/plain": [
       "0.7130358705161854"
      ]
     },
     "execution_count": 94,
     "metadata": {},
     "output_type": "execute_result"
    }
   ],
   "source": [
    "f1_score(y_test, light_pred, average='micro')"
   ]
  },
  {
   "cell_type": "code",
   "execution_count": 26,
   "metadata": {},
   "outputs": [],
   "source": [
    "ada_parameters = {\n",
    "  'n_estimators': [50, 100, 200],\n",
    "  'learning_rate': [0.1, 1, 2]\n",
    "}"
   ]
  },
  {
   "cell_type": "code",
   "execution_count": null,
   "metadata": {},
   "outputs": [],
   "source": [
    "ada_model = GridSearchCV(\n",
    "  AdaBoostClassifier(), \n",
    "  ada_parameters, \n",
    "  cv=5,\n",
    "  scoring=make_scorer(f1_score, average='micro'),\n",
    "  verbose=2\n",
    ").fit(X_train, y_train)"
   ]
  },
  {
   "cell_type": "code",
   "execution_count": 29,
   "metadata": {},
   "outputs": [
    {
     "data": {
      "text/plain": [
       "geo_level_1_id                            0.245\n",
       "age                                       0.075\n",
       "area_percentage                           0.075\n",
       "roof_type_q                               0.070\n",
       "count_floors_pre_eq                       0.070\n",
       "count_families                            0.060\n",
       "other_floor_type_q                        0.050\n",
       "land_surface_condition_t                  0.050\n",
       "position_t                                0.030\n",
       "position_s                                0.030\n",
       "foundation_type_r                         0.025\n",
       "has_secondary_use                         0.025\n",
       "height_percentage                         0.020\n",
       "geo_level_2_id                            0.020\n",
       "ground_floor_type_v                       0.015\n",
       "other_floor_type_x                        0.015\n",
       "has_superstructure_mud_mortar_stone       0.015\n",
       "has_superstructure_timber                 0.015\n",
       "has_superstructure_bamboo                 0.015\n",
       "has_superstructure_mud_mortar_brick       0.010\n",
       "has_superstructure_cement_mortar_brick    0.010\n",
       "has_secondary_use_agriculture             0.010\n",
       "roof_type_x                               0.010\n",
       "plan_configuration_u                      0.005\n",
       "has_superstructure_adobe_mud              0.005\n",
       "has_superstructure_rc_non_engineered      0.005\n",
       "has_superstructure_rc_engineered          0.005\n",
       "has_superstructure_other                  0.005\n",
       "foundation_type_w                         0.005\n",
       "foundation_type_u                         0.005\n",
       "has_superstructure_stone_flag             0.005\n",
       "position_o                                0.000\n",
       "other_floor_type_s                        0.000\n",
       "has_secondary_use_other                   0.000\n",
       "ground_floor_type_z                       0.000\n",
       "ground_floor_type_x                       0.000\n",
       "plan_configuration_d                      0.000\n",
       "ground_floor_type_m                       0.000\n",
       "foundation_type_i                         0.000\n",
       "plan_configuration_c                      0.000\n",
       "legal_ownership_status_w                  0.000\n",
       "plan_configuration_f                      0.000\n",
       "has_superstructure_cement_mortar_stone    0.000\n",
       "has_secondary_use_gov_office              0.000\n",
       "has_secondary_use_health_post             0.000\n",
       "has_secondary_use_industry                0.000\n",
       "has_secondary_use_school                  0.000\n",
       "has_secondary_use_institution             0.000\n",
       "has_secondary_use_rental                  0.000\n",
       "has_secondary_use_hotel                   0.000\n",
       "geo_level_3_id                            0.000\n",
       "plan_configuration_m                      0.000\n",
       "has_secondary_use_use_police              0.000\n",
       "legal_ownership_status_v                  0.000\n",
       "legal_ownership_status_r                  0.000\n",
       "plan_configuration_s                      0.000\n",
       "plan_configuration_q                      0.000\n",
       "plan_configuration_o                      0.000\n",
       "plan_configuration_n                      0.000\n",
       "land_surface_condition_o                  0.000\n",
       "dtype: float64"
      ]
     },
     "execution_count": 29,
     "metadata": {},
     "output_type": "execute_result"
    }
   ],
   "source": [
    "feature_importantance_series = pd.Series(ada_model.best_estimator_.feature_importances_)\n",
    "feature_importantance_series.index = X_test.columns\n",
    "feature_importantance_series.sort_values(ascending=False)"
   ]
  },
  {
   "cell_type": "code",
   "execution_count": 30,
   "metadata": {},
   "outputs": [
    {
     "data": {
      "text/plain": [
       "{'learning_rate': 1, 'n_estimators': 200}"
      ]
     },
     "execution_count": 30,
     "metadata": {},
     "output_type": "execute_result"
    }
   ],
   "source": [
    "ada_model.best_params_"
   ]
  },
  {
   "cell_type": "code",
   "execution_count": 31,
   "metadata": {},
   "outputs": [
    {
     "data": {
      "text/plain": [
       "0.6477414007459594"
      ]
     },
     "execution_count": 31,
     "metadata": {},
     "output_type": "execute_result"
    }
   ],
   "source": [
    "ada_pred = ada_model.predict(X_test)\n",
    "f1_score(y_test, ada_pred, average='micro')"
   ]
  },
  {
   "cell_type": "markdown",
   "metadata": {},
   "source": [
    "Ada did the worst among the first layer models."
   ]
  },
  {
   "cell_type": "markdown",
   "metadata": {},
   "source": [
    "## Gather all the models for stacking"
   ]
  },
  {
   "cell_type": "code",
   "execution_count": 102,
   "metadata": {},
   "outputs": [],
   "source": [
    "rf_model = RandomForestClassifier(min_samples_split = 5, n_estimators = 150).fit(X_train, y_train)\n",
    "xgb_model = XGBClassifier(colsample_bytree = 0.8, max_depth = 10).fit(X_train, y_train)\n",
    "light_model = LGBMClassifier(min_data_in_leaf = 50, num_leaves = 150, max_depth = 10).fit(X_train, y_train)"
   ]
  },
  {
   "cell_type": "code",
   "execution_count": 103,
   "metadata": {},
   "outputs": [],
   "source": [
    "stacking_train_df = pd.DataFrame({\n",
    " 'rf_pred': rf_model.predict(X_train),\n",
    "  'xgb_pred': xgb_model.predict(X_train),\n",
    "  'light_pred': light_model.predict(X_train)\n",
    "})"
   ]
  },
  {
   "cell_type": "code",
   "execution_count": 104,
   "metadata": {},
   "outputs": [
    {
     "name": "stderr",
     "output_type": "stream",
     "text": [
      "/Users/jackyho/anaconda3/lib/python3.7/site-packages/ipykernel_launcher.py:3: FutureWarning: Method .as_matrix will be removed in a future version. Use .values instead.\n",
      "  This is separate from the ipykernel package so we can avoid doing imports until\n"
     ]
    }
   ],
   "source": [
    "stacking_test_df = pd.DataFrame({\n",
    " 'rf_pred': rf_model.predict(X_test),\n",
    "  'xgb_pred': xgb_model.predict(X_test.as_matrix()),\n",
    "  'light_pred': light_model.predict(X_test)\n",
    "})"
   ]
  },
  {
   "cell_type": "code",
   "execution_count": 105,
   "metadata": {},
   "outputs": [
    {
     "data": {
      "text/html": [
       "<div>\n",
       "<style scoped>\n",
       "    .dataframe tbody tr th:only-of-type {\n",
       "        vertical-align: middle;\n",
       "    }\n",
       "\n",
       "    .dataframe tbody tr th {\n",
       "        vertical-align: top;\n",
       "    }\n",
       "\n",
       "    .dataframe thead th {\n",
       "        text-align: right;\n",
       "    }\n",
       "</style>\n",
       "<table border=\"1\" class=\"dataframe\">\n",
       "  <thead>\n",
       "    <tr style=\"text-align: right;\">\n",
       "      <th></th>\n",
       "      <th>rf_pred</th>\n",
       "      <th>xgb_pred</th>\n",
       "      <th>light_pred</th>\n",
       "    </tr>\n",
       "  </thead>\n",
       "  <tbody>\n",
       "    <tr>\n",
       "      <th>0</th>\n",
       "      <td>1</td>\n",
       "      <td>1</td>\n",
       "      <td>1</td>\n",
       "    </tr>\n",
       "    <tr>\n",
       "      <th>1</th>\n",
       "      <td>2</td>\n",
       "      <td>2</td>\n",
       "      <td>2</td>\n",
       "    </tr>\n",
       "    <tr>\n",
       "      <th>2</th>\n",
       "      <td>3</td>\n",
       "      <td>3</td>\n",
       "      <td>2</td>\n",
       "    </tr>\n",
       "    <tr>\n",
       "      <th>3</th>\n",
       "      <td>3</td>\n",
       "      <td>3</td>\n",
       "      <td>3</td>\n",
       "    </tr>\n",
       "    <tr>\n",
       "      <th>4</th>\n",
       "      <td>3</td>\n",
       "      <td>3</td>\n",
       "      <td>3</td>\n",
       "    </tr>\n",
       "    <tr>\n",
       "      <th>...</th>\n",
       "      <td>...</td>\n",
       "      <td>...</td>\n",
       "      <td>...</td>\n",
       "    </tr>\n",
       "    <tr>\n",
       "      <th>333886</th>\n",
       "      <td>3</td>\n",
       "      <td>3</td>\n",
       "      <td>3</td>\n",
       "    </tr>\n",
       "    <tr>\n",
       "      <th>333887</th>\n",
       "      <td>3</td>\n",
       "      <td>3</td>\n",
       "      <td>3</td>\n",
       "    </tr>\n",
       "    <tr>\n",
       "      <th>333888</th>\n",
       "      <td>3</td>\n",
       "      <td>3</td>\n",
       "      <td>3</td>\n",
       "    </tr>\n",
       "    <tr>\n",
       "      <th>333889</th>\n",
       "      <td>3</td>\n",
       "      <td>3</td>\n",
       "      <td>3</td>\n",
       "    </tr>\n",
       "    <tr>\n",
       "      <th>333890</th>\n",
       "      <td>3</td>\n",
       "      <td>3</td>\n",
       "      <td>3</td>\n",
       "    </tr>\n",
       "  </tbody>\n",
       "</table>\n",
       "<p>333891 rows × 3 columns</p>\n",
       "</div>"
      ],
      "text/plain": [
       "        rf_pred  xgb_pred  light_pred\n",
       "0             1         1           1\n",
       "1             2         2           2\n",
       "2             3         3           2\n",
       "3             3         3           3\n",
       "4             3         3           3\n",
       "...         ...       ...         ...\n",
       "333886        3         3           3\n",
       "333887        3         3           3\n",
       "333888        3         3           3\n",
       "333889        3         3           3\n",
       "333890        3         3           3\n",
       "\n",
       "[333891 rows x 3 columns]"
      ]
     },
     "execution_count": 105,
     "metadata": {},
     "output_type": "execute_result"
    }
   ],
   "source": [
    "stacking_train_df"
   ]
  },
  {
   "cell_type": "code",
   "execution_count": 106,
   "metadata": {},
   "outputs": [],
   "source": [
    "cat_parameters = {\n",
    "  'depth': [6, 7, 8, 9],\n",
    "  'l2_leaf_reg': [10, 20],\n",
    "  'one_hot_max_size': [10]\n",
    "}"
   ]
  },
  {
   "cell_type": "code",
   "execution_count": null,
   "metadata": {},
   "outputs": [],
   "source": [
    "cat_model = GridSearchCV(\n",
    "  CatBoostClassifier(), \n",
    "  cat_parameters, \n",
    "  cv=5,\n",
    "  scoring=make_scorer(f1_score, average='micro'),\n",
    "  verbose=2\n",
    ").fit(stacking_train_df, y_train)"
   ]
  },
  {
   "cell_type": "code",
   "execution_count": 108,
   "metadata": {},
   "outputs": [
    {
     "data": {
      "text/plain": [
       "{'depth': 6, 'l2_leaf_reg': 10, 'one_hot_max_size': 10}"
      ]
     },
     "execution_count": 108,
     "metadata": {},
     "output_type": "execute_result"
    }
   ],
   "source": [
    "cat_model.best_params_"
   ]
  },
  {
   "cell_type": "code",
   "execution_count": 109,
   "metadata": {},
   "outputs": [
    {
     "data": {
      "text/plain": [
       "0.7166275268223051"
      ]
     },
     "execution_count": 109,
     "metadata": {},
     "output_type": "execute_result"
    }
   ],
   "source": [
    "cat_pred = cat_model.predict(stacking_test_df)\n",
    "f1_score(y_test, cat_pred, average='micro')"
   ]
  },
  {
   "cell_type": "markdown",
   "metadata": {},
   "source": [
    "## Let's put all these together"
   ]
  },
  {
   "cell_type": "code",
   "execution_count": 123,
   "metadata": {},
   "outputs": [],
   "source": [
    "from mlens.metrics import make_scorer\n",
    "accuracy_scorer = make_scorer(f1_score, average='micro')"
   ]
  },
  {
   "cell_type": "code",
   "execution_count": 124,
   "metadata": {},
   "outputs": [],
   "source": [
    "ensemble = SuperLearner(scorer=accuracy_scorer, random_state=123, verbose=2, folds=5)"
   ]
  },
  {
   "cell_type": "code",
   "execution_count": 125,
   "metadata": {},
   "outputs": [
    {
     "data": {
      "text/plain": [
       "SuperLearner(array_check=None, backend=None, folds=5,\n",
       "       layers=[Layer(backend='threading', dtype=<class 'numpy.float32'>, n_jobs=-1,\n",
       "   name='layer-1', propagate_features=None, raise_on_exception=True,\n",
       "   random_state=3582, shuffle=False,\n",
       "   stack=[Group(backend='threading', dtype=<class 'numpy.float32'>,\n",
       "   indexer=FoldIndex(X=None, folds=5, raise_on_ex...e=micro))],\n",
       "   n_jobs=-1, name='group-7', raise_on_exception=True, transformers=[])],\n",
       "   verbose=1)],\n",
       "       model_selection=False, n_jobs=None, raise_on_exception=True,\n",
       "       random_state=123, sample_size=20,\n",
       "       scorer=make_scorer(f1_score, average=micro), shuffle=False,\n",
       "       verbose=2)"
      ]
     },
     "execution_count": 125,
     "metadata": {},
     "output_type": "execute_result"
    }
   ],
   "source": [
    "ensemble.add([\n",
    "  RandomForestClassifier(min_samples_split=5, n_estimators=150, random_state=123), \n",
    "  XGBClassifier(colsample_bytree=0.8, max_depth=10, seed=123),\n",
    "  LGBMClassifier(min_data_in_leaf=50, num_leaves=150, max_depth=10, random_state=123)\n",
    "])"
   ]
  },
  {
   "cell_type": "code",
   "execution_count": 126,
   "metadata": {},
   "outputs": [
    {
     "data": {
      "text/plain": [
       "SuperLearner(array_check=None, backend=None, folds=5,\n",
       "       layers=[Layer(backend='threading', dtype=<class 'numpy.float32'>, n_jobs=-1,\n",
       "   name='layer-1', propagate_features=None, raise_on_exception=True,\n",
       "   random_state=3582, shuffle=False,\n",
       "   stack=[Group(backend='threading', dtype=<class 'numpy.float32'>,\n",
       "   indexer=FoldIndex(X=None, folds=5, raise_on_ex...e=micro))],\n",
       "   n_jobs=-1, name='group-8', raise_on_exception=True, transformers=[])],\n",
       "   verbose=1)],\n",
       "       model_selection=False, n_jobs=None, raise_on_exception=True,\n",
       "       random_state=123, sample_size=20,\n",
       "       scorer=make_scorer(f1_score, average=micro), shuffle=False,\n",
       "       verbose=2)"
      ]
     },
     "execution_count": 126,
     "metadata": {},
     "output_type": "execute_result"
    }
   ],
   "source": [
    "ensemble.add_meta(CatBoostClassifier(\n",
    "  random_seed=123,\n",
    "  depth=6, \n",
    "  l2_leaf_reg=10, \n",
    "  one_hot_max_size=10\n",
    "))"
   ]
  },
  {
   "cell_type": "code",
   "execution_count": 127,
   "metadata": {},
   "outputs": [],
   "source": [
    "sub_preprocessor = ColumnTransformer(\n",
    "  transformers=[('ohe', OneHotEncoder(drop=\"first\"), categorical_features)],\n",
    "  remainder='passthrough'\n",
    ")"
   ]
  },
  {
   "cell_type": "code",
   "execution_count": 128,
   "metadata": {},
   "outputs": [],
   "source": [
    "X = sub_preprocessor.fit_transform(train_data_values)"
   ]
  },
  {
   "cell_type": "code",
   "execution_count": 129,
   "metadata": {},
   "outputs": [],
   "source": [
    "sm = SMOTE(random_state=27)\n",
    "\n",
    "X_train, y_train = sm.fit_sample(X, train_data_labels['damage_grade'])"
   ]
  },
  {
   "cell_type": "code",
   "execution_count": null,
   "metadata": {},
   "outputs": [],
   "source": [
    "ensemble.fit(X_train, y_train)"
   ]
  },
  {
   "cell_type": "code",
   "execution_count": 131,
   "metadata": {},
   "outputs": [],
   "source": [
    "test_data_values = pd.read_csv('./data/test_values.csv', index_col=0)"
   ]
  },
  {
   "cell_type": "code",
   "execution_count": 132,
   "metadata": {},
   "outputs": [],
   "source": [
    "X_test = sub_preprocessor.transform(test_data_values)"
   ]
  },
  {
   "cell_type": "code",
   "execution_count": 133,
   "metadata": {},
   "outputs": [
    {
     "name": "stdout",
     "output_type": "stream",
     "text": [
      "\n",
      "Predicting 2 layers\n"
     ]
    },
    {
     "name": "stderr",
     "output_type": "stream",
     "text": [
      "/Users/jackyho/anaconda3/lib/python3.7/site-packages/mlens/parallel/_base_functions.py:313: ParameterChangeWarning: Parameter value ('multi:softprob') has changed since model was fitted ('binary:logistic').\n",
      "  (lpar, rpar), ParameterChangeWarning)\n"
     ]
    },
    {
     "name": "stdout",
     "output_type": "stream",
     "text": [
      "Processing layer-1             done | 00:00:11\n",
      "Processing layer-2             done | 00:00:00\n",
      "Predict complete                    | 00:00:12\n"
     ]
    }
   ],
   "source": [
    "preds = ensemble.predict(X_test)"
   ]
  },
  {
   "cell_type": "code",
   "execution_count": 134,
   "metadata": {},
   "outputs": [],
   "source": [
    "sub = pd.DataFrame({\n",
    "  'building_id': test_data_values.index,\n",
    "  'damage_grade': map(int, preds)\n",
    "})"
   ]
  },
  {
   "cell_type": "code",
   "execution_count": 135,
   "metadata": {},
   "outputs": [],
   "source": [
    "sub.to_csv('final-submission', index=False)"
   ]
  },
  {
   "cell_type": "code",
   "execution_count": 137,
   "metadata": {},
   "outputs": [],
   "source": [
    "pickle.dump(ensemble, open('ensemble_model.pickle', 'wb'))"
   ]
  },
  {
   "cell_type": "code",
   "execution_count": null,
   "metadata": {},
   "outputs": [],
   "source": []
  }
 ],
 "metadata": {
  "kernelspec": {
   "display_name": "Python 3",
   "language": "python",
   "name": "python3"
  },
  "language_info": {
   "codemirror_mode": {
    "name": "ipython",
    "version": 3
   },
   "file_extension": ".py",
   "mimetype": "text/x-python",
   "name": "python",
   "nbconvert_exporter": "python",
   "pygments_lexer": "ipython3",
   "version": "3.7.3"
  }
 },
 "nbformat": 4,
 "nbformat_minor": 2
}
